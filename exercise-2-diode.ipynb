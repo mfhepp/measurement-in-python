{
 "cells": [
  {
   "cell_type": "markdown",
   "metadata": {},
   "source": [
    "# Exercise 2: Measure the properties of a diode\n",
    "\n",
    "See http://www.ebusiness-unibw.org/wiki/Makerlab/Guides/PyVISA for context.\n",
    "\n",
    "## Task Description \n",
    "In diodes, like the popular 1N4001, the flow of current depends on the voltage applied. Each diode has a characteristic relationship between two, called the current-voltage curve. By combining a computer-controlled voltage and a both a voltmeter and an amperemeter, we can trace this curve from a Python script.\n",
    "\n",
    "Task: Use the setup from here and connect it to the Rohde & Schwarz HMC 8042 programmable power supply and the Rohde & Schwarz HMC8012 digital multimeter. Then, write a Python script to increase the voltage of the power supply in small steps and measure the flow of current. Plot the result with Matplotlib in an Jupyter notebook. Compare it with the datasheet.\n",
    "\n",
    "## Warning \n",
    "You must stay within the voltage and current rating of the diode. For the 1N4001, this means a maximum current of 1A, which will be reached at ca. 0.9V. By adding a series resistor (e.g. 100 Ohms), the voltage and thus the resolution of the measurement can be improved.\n",
    "The diode can get hot during the measurement. Take precautions!\n",
    "\n",
    "## Preliminaries\n",
    "- Install device drivers\n",
    "- Install libraries\n",
    "\n",
    "## Links and Resources\n",
    "- http://www.leifiphysik.de/elektronik/halbleiterdiode/versuche/aufnahme-der-diodenkennlinie\n",
    "- https://learn.sparkfun.com/tutorials/diodes/real-diode-characteristics\n",
    "- http://www.righto.com/2013/07/rigol-oscilloscope-hacks-with-python.html\n",
    "\n",
    "\n"
   ]
  },
  {
   "cell_type": "code",
   "execution_count": null,
   "metadata": {
    "collapsed": true
   },
   "outputs": [],
   "source": []
  }
 ],
 "metadata": {
  "kernelspec": {
   "display_name": "Python 2",
   "language": "python",
   "name": "python2"
  },
  "language_info": {
   "codemirror_mode": {
    "name": "ipython",
    "version": 2
   },
   "file_extension": ".py",
   "mimetype": "text/x-python",
   "name": "python",
   "nbconvert_exporter": "python",
   "pygments_lexer": "ipython2",
   "version": "2.7.11"
  }
 },
 "nbformat": 4,
 "nbformat_minor": 0
}
