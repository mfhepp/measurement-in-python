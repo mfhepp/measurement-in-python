{
 "cells": [
  {
   "cell_type": "markdown",
   "metadata": {},
   "source": [
    "# Exercise 1: Measure the discharge behavior of a battery\n",
    "\n",
    "See http://www.ebusiness-unibw.org/wiki/Makerlab/Guides/PyVISA for context.\n",
    "\n",
    "## Task Description \n",
    "As a first example, we are going to discharge a battery by a connecting a small light bulb or a sufficiently rated resistor and measure the decreasing cell voltage over time. In this example, we only have to control a single measurement device, in this case a digital voltmeter.\n",
    "\n",
    "**Task:** Measure the discharge curve for a Duracell QU1500 AA battery at 200 and 500 mA and compare it with the datasheet.\n",
    "\n",
    "## Warning \n",
    "Do not use rechargeable batteries, namely not Lithium-based batteries. They can develop very high discharge currents that can cause fires and other hazzards.\n",
    "\n",
    "When using a resistor care must be taken to choose a sufficient power rating.\n",
    "\n",
    "**Example:** When you use a 1.5 V AA battery, you need a resistor of R1=1.5 V / 0.2A = 7.5 Ohms and of R2=1.5 V / 0.5A = 3 Ohms. The 7.5 Ohms resistor needs to be rated P = 1.5V * 0.2A = 0,3 W and the 3 Ohms resistor needs to be 1.5V *0.5A = 0.75 W.\n",
    "Both values are available in the E12 series of values, and you should use a 1 W version to be on the safe side.\n",
    "\n",
    "**The resistor can get hot** even within its power rating. Handle with care!\n",
    "\n",
    "## Preliminaries\n",
    "- Install device drivers\n",
    "- Install libraries\n",
    "\n"
   ]
  },
  {
   "cell_type": "code",
   "execution_count": null,
   "metadata": {
    "collapsed": true
   },
   "outputs": [],
   "source": []
  }
 ],
 "metadata": {
  "kernelspec": {
   "display_name": "Python 2",
   "language": "python",
   "name": "python2"
  },
  "language_info": {
   "codemirror_mode": {
    "name": "ipython",
    "version": 2
   },
   "file_extension": ".py",
   "mimetype": "text/x-python",
   "name": "python",
   "nbconvert_exporter": "python",
   "pygments_lexer": "ipython2",
   "version": "2.7.11"
  }
 },
 "nbformat": 4,
 "nbformat_minor": 0
}
